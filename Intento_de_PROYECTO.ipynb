{
  "cells": [
    {
      "cell_type": "code",
      "execution_count": 4,
      "metadata": {
        "colab": {
          "base_uri": "https://localhost:8080/",
          "height": 35
        },
        "id": "lJHN8WSS0fbv",
        "outputId": "ce108337-17fb-42a5-ce8b-44701978e8b6"
      },
      "outputs": [
        {
          "name": "stderr",
          "output_type": "stream",
          "text": [
            "c:\\Users\\48591347\\AppData\\Local\\Programs\\Python\\Python313\\Lib\\site-packages\\tqdm\\auto.py:21: TqdmWarning: IProgress not found. Please update jupyter and ipywidgets. See https://ipywidgets.readthedocs.io/en/stable/user_install.html\n",
            "  from .autonotebook import tqdm as notebook_tqdm\n"
          ]
        },
        {
          "name": "stdout",
          "output_type": "stream",
          "text": [
            "Downloading from https://www.kaggle.com/api/v1/datasets/download/salikhussaini49/prediction-of-sepsis?dataset_version_number=2...\n"
          ]
        },
        {
          "name": "stderr",
          "output_type": "stream",
          "text": [
            "100%|██████████| 74.7M/74.7M [00:31<00:00, 2.52MB/s]"
          ]
        },
        {
          "name": "stdout",
          "output_type": "stream",
          "text": [
            "Extracting files...\n"
          ]
        },
        {
          "name": "stderr",
          "output_type": "stream",
          "text": [
            "\n"
          ]
        },
        {
          "name": "stdout",
          "output_type": "stream",
          "text": [
            "Path to dataset files: C:\\Users\\48591347\\.cache\\kagglehub\\datasets\\salikhussaini49\\prediction-of-sepsis\\versions\\2\n"
          ]
        }
      ],
      "source": [
        "import kagglehub\n",
        "\n",
        "# Download latest version\n",
        "path = kagglehub.dataset_download(\"salikhussaini49/prediction-of-sepsis\")\n",
        "\n",
        "print(\"Path to dataset files:\", path)\n"
      ]
    },
    {
      "cell_type": "code",
      "execution_count": null,
      "metadata": {
        "colab": {
          "base_uri": "https://localhost:8080/"
        },
        "id": "ti_BPzIyy6nd",
        "outputId": "940af1c0-abf6-493c-c8ce-018ca7f32a7d"
      },
      "outputs": [
        {
          "name": "stdout",
          "output_type": "stream",
          "text": [
            "Collecting fastapi\n",
            "  Downloading fastapi-0.115.12-py3-none-any.whl.metadata (27 kB)\n",
            "Collecting uvicorn\n",
            "  Downloading uvicorn-0.34.2-py3-none-any.whl.metadata (6.5 kB)\n",
            "Collecting starlette<0.47.0,>=0.40.0 (from fastapi)\n",
            "  Downloading starlette-0.46.2-py3-none-any.whl.metadata (6.2 kB)\n",
            "Requirement already satisfied: pydantic!=1.8,!=1.8.1,!=2.0.0,!=2.0.1,!=2.1.0,<3.0.0,>=1.7.4 in /usr/local/lib/python3.11/dist-packages (from fastapi) (2.11.4)\n",
            "Requirement already satisfied: typing-extensions>=4.8.0 in /usr/local/lib/python3.11/dist-packages (from fastapi) (4.13.2)\n",
            "Requirement already satisfied: click>=7.0 in /usr/local/lib/python3.11/dist-packages (from uvicorn) (8.1.8)\n",
            "Requirement already satisfied: h11>=0.8 in /usr/local/lib/python3.11/dist-packages (from uvicorn) (0.16.0)\n",
            "Requirement already satisfied: annotated-types>=0.6.0 in /usr/local/lib/python3.11/dist-packages (from pydantic!=1.8,!=1.8.1,!=2.0.0,!=2.0.1,!=2.1.0,<3.0.0,>=1.7.4->fastapi) (0.7.0)\n",
            "Requirement already satisfied: pydantic-core==2.33.2 in /usr/local/lib/python3.11/dist-packages (from pydantic!=1.8,!=1.8.1,!=2.0.0,!=2.0.1,!=2.1.0,<3.0.0,>=1.7.4->fastapi) (2.33.2)\n",
            "Requirement already satisfied: typing-inspection>=0.4.0 in /usr/local/lib/python3.11/dist-packages (from pydantic!=1.8,!=1.8.1,!=2.0.0,!=2.0.1,!=2.1.0,<3.0.0,>=1.7.4->fastapi) (0.4.0)\n",
            "Requirement already satisfied: anyio<5,>=3.6.2 in /usr/local/lib/python3.11/dist-packages (from starlette<0.47.0,>=0.40.0->fastapi) (4.9.0)\n",
            "Requirement already satisfied: idna>=2.8 in /usr/local/lib/python3.11/dist-packages (from anyio<5,>=3.6.2->starlette<0.47.0,>=0.40.0->fastapi) (3.10)\n",
            "Requirement already satisfied: sniffio>=1.1 in /usr/local/lib/python3.11/dist-packages (from anyio<5,>=3.6.2->starlette<0.47.0,>=0.40.0->fastapi) (1.3.1)\n",
            "Downloading fastapi-0.115.12-py3-none-any.whl (95 kB)\n",
            "\u001b[2K   \u001b[90m━━━━━━━━━━━━━━━━━━━━━━━━━━━━━━━━━━━━━━━━\u001b[0m \u001b[32m95.2/95.2 kB\u001b[0m \u001b[31m4.4 MB/s\u001b[0m eta \u001b[36m0:00:00\u001b[0m\n",
            "\u001b[?25hDownloading uvicorn-0.34.2-py3-none-any.whl (62 kB)\n",
            "\u001b[2K   \u001b[90m━━━━━━━━━━━━━━━━━━━━━━━━━━━━━━━━━━━━━━━━\u001b[0m \u001b[32m62.5/62.5 kB\u001b[0m \u001b[31m4.5 MB/s\u001b[0m eta \u001b[36m0:00:00\u001b[0m\n",
            "\u001b[?25hDownloading starlette-0.46.2-py3-none-any.whl (72 kB)\n",
            "\u001b[2K   \u001b[90m━━━━━━━━━━━━━━━━━━━━━━━━━━━━━━━━━━━━━━━━\u001b[0m \u001b[32m72.0/72.0 kB\u001b[0m \u001b[31m5.3 MB/s\u001b[0m eta \u001b[36m0:00:00\u001b[0m\n",
            "\u001b[?25hInstalling collected packages: uvicorn, starlette, fastapi\n",
            "Successfully installed fastapi-0.115.12 starlette-0.46.2 uvicorn-0.34.2\n"
          ]
        }
      ],
      "source": []
    },
    {
      "cell_type": "code",
      "execution_count": null,
      "metadata": {
        "id": "GNjjVR5bamLy"
      },
      "outputs": [],
      "source": []
    },
    {
      "cell_type": "code",
      "execution_count": 7,
      "metadata": {
        "colab": {
          "base_uri": "https://localhost:8080/",
          "height": 290
        },
        "id": "uBNQj65Fz2jo",
        "outputId": "2d1268e8-fc4c-4bc3-d3fc-7206e52e61e5"
      },
      "outputs": [
        {
          "name": "stderr",
          "output_type": "stream",
          "text": [
            "Matplotlib is building the font cache; this may take a moment.\n"
          ]
        },
        {
          "name": "stdout",
          "output_type": "stream",
          "text": [
            "(1552210, 44)\n"
          ]
        },
        {
          "data": {
            "text/html": [
              "<div>\n",
              "<style scoped>\n",
              "    .dataframe tbody tr th:only-of-type {\n",
              "        vertical-align: middle;\n",
              "    }\n",
              "\n",
              "    .dataframe tbody tr th {\n",
              "        vertical-align: top;\n",
              "    }\n",
              "\n",
              "    .dataframe thead th {\n",
              "        text-align: right;\n",
              "    }\n",
              "</style>\n",
              "<table border=\"1\" class=\"dataframe\">\n",
              "  <thead>\n",
              "    <tr style=\"text-align: right;\">\n",
              "      <th></th>\n",
              "      <th>Unnamed: 0</th>\n",
              "      <th>Hour</th>\n",
              "      <th>HR</th>\n",
              "      <th>O2Sat</th>\n",
              "      <th>Temp</th>\n",
              "      <th>SBP</th>\n",
              "      <th>MAP</th>\n",
              "      <th>DBP</th>\n",
              "      <th>Resp</th>\n",
              "      <th>EtCO2</th>\n",
              "      <th>...</th>\n",
              "      <th>Fibrinogen</th>\n",
              "      <th>Platelets</th>\n",
              "      <th>Age</th>\n",
              "      <th>Gender</th>\n",
              "      <th>Unit1</th>\n",
              "      <th>Unit2</th>\n",
              "      <th>HospAdmTime</th>\n",
              "      <th>ICULOS</th>\n",
              "      <th>SepsisLabel</th>\n",
              "      <th>Patient_ID</th>\n",
              "    </tr>\n",
              "  </thead>\n",
              "  <tbody>\n",
              "    <tr>\n",
              "      <th>0</th>\n",
              "      <td>0</td>\n",
              "      <td>0</td>\n",
              "      <td>NaN</td>\n",
              "      <td>NaN</td>\n",
              "      <td>NaN</td>\n",
              "      <td>NaN</td>\n",
              "      <td>NaN</td>\n",
              "      <td>NaN</td>\n",
              "      <td>NaN</td>\n",
              "      <td>NaN</td>\n",
              "      <td>...</td>\n",
              "      <td>NaN</td>\n",
              "      <td>NaN</td>\n",
              "      <td>68.54</td>\n",
              "      <td>0</td>\n",
              "      <td>NaN</td>\n",
              "      <td>NaN</td>\n",
              "      <td>-0.02</td>\n",
              "      <td>1</td>\n",
              "      <td>0</td>\n",
              "      <td>17072</td>\n",
              "    </tr>\n",
              "    <tr>\n",
              "      <th>1</th>\n",
              "      <td>1</td>\n",
              "      <td>1</td>\n",
              "      <td>65.0</td>\n",
              "      <td>100.0</td>\n",
              "      <td>NaN</td>\n",
              "      <td>NaN</td>\n",
              "      <td>72.0</td>\n",
              "      <td>NaN</td>\n",
              "      <td>16.5</td>\n",
              "      <td>NaN</td>\n",
              "      <td>...</td>\n",
              "      <td>NaN</td>\n",
              "      <td>NaN</td>\n",
              "      <td>68.54</td>\n",
              "      <td>0</td>\n",
              "      <td>NaN</td>\n",
              "      <td>NaN</td>\n",
              "      <td>-0.02</td>\n",
              "      <td>2</td>\n",
              "      <td>0</td>\n",
              "      <td>17072</td>\n",
              "    </tr>\n",
              "    <tr>\n",
              "      <th>2</th>\n",
              "      <td>2</td>\n",
              "      <td>2</td>\n",
              "      <td>78.0</td>\n",
              "      <td>100.0</td>\n",
              "      <td>NaN</td>\n",
              "      <td>NaN</td>\n",
              "      <td>42.5</td>\n",
              "      <td>NaN</td>\n",
              "      <td>NaN</td>\n",
              "      <td>NaN</td>\n",
              "      <td>...</td>\n",
              "      <td>NaN</td>\n",
              "      <td>NaN</td>\n",
              "      <td>68.54</td>\n",
              "      <td>0</td>\n",
              "      <td>NaN</td>\n",
              "      <td>NaN</td>\n",
              "      <td>-0.02</td>\n",
              "      <td>3</td>\n",
              "      <td>0</td>\n",
              "      <td>17072</td>\n",
              "    </tr>\n",
              "    <tr>\n",
              "      <th>3</th>\n",
              "      <td>3</td>\n",
              "      <td>3</td>\n",
              "      <td>73.0</td>\n",
              "      <td>100.0</td>\n",
              "      <td>NaN</td>\n",
              "      <td>NaN</td>\n",
              "      <td>NaN</td>\n",
              "      <td>NaN</td>\n",
              "      <td>17.0</td>\n",
              "      <td>NaN</td>\n",
              "      <td>...</td>\n",
              "      <td>NaN</td>\n",
              "      <td>NaN</td>\n",
              "      <td>68.54</td>\n",
              "      <td>0</td>\n",
              "      <td>NaN</td>\n",
              "      <td>NaN</td>\n",
              "      <td>-0.02</td>\n",
              "      <td>4</td>\n",
              "      <td>0</td>\n",
              "      <td>17072</td>\n",
              "    </tr>\n",
              "    <tr>\n",
              "      <th>4</th>\n",
              "      <td>4</td>\n",
              "      <td>4</td>\n",
              "      <td>70.0</td>\n",
              "      <td>100.0</td>\n",
              "      <td>NaN</td>\n",
              "      <td>129.0</td>\n",
              "      <td>74.0</td>\n",
              "      <td>69.0</td>\n",
              "      <td>14.0</td>\n",
              "      <td>NaN</td>\n",
              "      <td>...</td>\n",
              "      <td>NaN</td>\n",
              "      <td>330.0</td>\n",
              "      <td>68.54</td>\n",
              "      <td>0</td>\n",
              "      <td>NaN</td>\n",
              "      <td>NaN</td>\n",
              "      <td>-0.02</td>\n",
              "      <td>5</td>\n",
              "      <td>0</td>\n",
              "      <td>17072</td>\n",
              "    </tr>\n",
              "  </tbody>\n",
              "</table>\n",
              "<p>5 rows × 44 columns</p>\n",
              "</div>"
            ],
            "text/plain": [
              "   Unnamed: 0  Hour    HR  O2Sat  Temp    SBP   MAP   DBP  Resp  EtCO2  ...  \\\n",
              "0           0     0   NaN    NaN   NaN    NaN   NaN   NaN   NaN    NaN  ...   \n",
              "1           1     1  65.0  100.0   NaN    NaN  72.0   NaN  16.5    NaN  ...   \n",
              "2           2     2  78.0  100.0   NaN    NaN  42.5   NaN   NaN    NaN  ...   \n",
              "3           3     3  73.0  100.0   NaN    NaN   NaN   NaN  17.0    NaN  ...   \n",
              "4           4     4  70.0  100.0   NaN  129.0  74.0  69.0  14.0    NaN  ...   \n",
              "\n",
              "   Fibrinogen  Platelets    Age  Gender  Unit1  Unit2  HospAdmTime  ICULOS  \\\n",
              "0         NaN        NaN  68.54       0    NaN    NaN        -0.02       1   \n",
              "1         NaN        NaN  68.54       0    NaN    NaN        -0.02       2   \n",
              "2         NaN        NaN  68.54       0    NaN    NaN        -0.02       3   \n",
              "3         NaN        NaN  68.54       0    NaN    NaN        -0.02       4   \n",
              "4         NaN      330.0  68.54       0    NaN    NaN        -0.02       5   \n",
              "\n",
              "   SepsisLabel  Patient_ID  \n",
              "0            0       17072  \n",
              "1            0       17072  \n",
              "2            0       17072  \n",
              "3            0       17072  \n",
              "4            0       17072  \n",
              "\n",
              "[5 rows x 44 columns]"
            ]
          },
          "execution_count": 7,
          "metadata": {},
          "output_type": "execute_result"
        }
      ],
      "source": [
        "import kagglehub\n",
        "import pandas as pd\n",
        "from sklearn.tree import DecisionTreeClassifier\n",
        "from sklearn.model_selection import train_test_split\n",
        "from sklearn.impute import SimpleImputer\n",
        "import matplotlib.pyplot as plt\n",
        "import seaborn as sns\n",
        "\n",
        "# Download latest version\n",
        "path = kagglehub.dataset_download(\"salikhussaini49/prediction-of-sepsis\")\n",
        "\n",
        "path\n",
        "\n",
        "\n",
        "import os\n",
        "\n",
        "# Mostrar los archivos que hay en la carpeta descargada\n",
        "#print(os.listdir(path))\n",
        "df = pd.read_csv(path + \"/Dataset.csv\")\n",
        "print(df.shape)\n",
        "df.head()\n",
        "\n"
      ]
    },
    {
      "cell_type": "code",
      "execution_count": null,
      "metadata": {
        "colab": {
          "base_uri": "https://localhost:8080/",
          "height": 991
        },
        "id": "Ik28oTzzV40r",
        "outputId": "9e406d9d-6321-4d5c-c960-33d1dc2cd64a"
      },
      "outputs": [
        {
          "name": "stdout",
          "output_type": "stream",
          "text": [
            "<class 'pandas.core.frame.DataFrame'>\n",
            "RangeIndex: 1552210 entries, 0 to 1552209\n",
            "Data columns (total 42 columns):\n",
            " #   Column            Non-Null Count    Dtype  \n",
            "---  ------            --------------    -----  \n",
            " 0   Hour              1552210 non-null  int64  \n",
            " 1   HR                1398811 non-null  float64\n",
            " 2   O2Sat             1349474 non-null  float64\n",
            " 3   Temp              525226 non-null   float64\n",
            " 4   SBP               1325945 non-null  float64\n",
            " 5   MAP               1358940 non-null  float64\n",
            " 6   DBP               1065656 non-null  float64\n",
            " 7   Resp              1313875 non-null  float64\n",
            " 8   EtCO2             57636 non-null    float64\n",
            " 9   BaseExcess        84145 non-null    float64\n",
            " 10  HCO3              65028 non-null    float64\n",
            " 11  FiO2              129365 non-null   float64\n",
            " 12  pH                107573 non-null   float64\n",
            " 13  PaCO2             86301 non-null    float64\n",
            " 14  SaO2              53561 non-null    float64\n",
            " 15  AST               25183 non-null    float64\n",
            " 16  BUN               106568 non-null   float64\n",
            " 17  Alkalinephos      24941 non-null    float64\n",
            " 18  Calcium           91331 non-null    float64\n",
            " 19  Chloride          70466 non-null    float64\n",
            " 20  Creatinine        94616 non-null    float64\n",
            " 21  Bilirubin_direct  2990 non-null     float64\n",
            " 22  Glucose           265516 non-null   float64\n",
            " 23  Lactate           41446 non-null    float64\n",
            " 24  Magnesium         97951 non-null    float64\n",
            " 25  Phosphate         62301 non-null    float64\n",
            " 26  Potassium         144525 non-null   float64\n",
            " 27  Bilirubin_total   23141 non-null    float64\n",
            " 28  TroponinI         14781 non-null    float64\n",
            " 29  Hct               137433 non-null   float64\n",
            " 30  Hgb               114591 non-null   float64\n",
            " 31  PTT               45699 non-null    float64\n",
            " 32  WBC               99447 non-null    float64\n",
            " 33  Fibrinogen        10242 non-null    float64\n",
            " 34  Platelets         92209 non-null    float64\n",
            " 35  Age               1552210 non-null  float64\n",
            " 36  Gender            1552210 non-null  int64  \n",
            " 37  Unit1             940250 non-null   float64\n",
            " 38  Unit2             940250 non-null   float64\n",
            " 39  HospAdmTime       1552202 non-null  float64\n",
            " 40  ICULOS            1552210 non-null  int64  \n",
            " 41  SepsisLabel       1552210 non-null  int64  \n",
            "dtypes: float64(38), int64(4)\n",
            "memory usage: 497.4 MB\n"
          ]
        },
        {
          "ename": "AttributeError",
          "evalue": "'NoneType' object has no attribute 'sort_values'",
          "output_type": "error",
          "traceback": [
            "\u001b[0;31m---------------------------------------------------------------------------\u001b[0m",
            "\u001b[0;31mAttributeError\u001b[0m                            Traceback (most recent call last)",
            "\u001b[0;32m<ipython-input-22-e5642b804b39>\u001b[0m in \u001b[0;36m<cell line: 0>\u001b[0;34m()\u001b[0m\n\u001b[0;32m----> 1\u001b[0;31m \u001b[0mdf\u001b[0m\u001b[0;34m.\u001b[0m\u001b[0minfo\u001b[0m\u001b[0;34m(\u001b[0m\u001b[0;34m)\u001b[0m\u001b[0;34m.\u001b[0m\u001b[0msort_values\u001b[0m\u001b[0;34m(\u001b[0m\u001b[0;34m\"Non-Null Count\"\u001b[0m\u001b[0;34m)\u001b[0m\u001b[0;34m\u001b[0m\u001b[0;34m\u001b[0m\u001b[0m\n\u001b[0m",
            "\u001b[0;31mAttributeError\u001b[0m: 'NoneType' object has no attribute 'sort_values'"
          ]
        }
      ],
      "source": [
        "df.info().sort_values(\"Non-Null Count\")"
      ]
    },
    {
      "cell_type": "code",
      "execution_count": null,
      "metadata": {
        "colab": {
          "base_uri": "https://localhost:8080/",
          "height": 1000
        },
        "id": "WWFmwFbnusoJ",
        "outputId": "a25fa8f6-db04-43c3-dcc8-e20b4c29bab0"
      },
      "outputs": [
        {
          "data": {
            "image/png": "[encoded data removed]",
            "text/plain": [
              "<Figure size 1000x1500 with 1 Axes>"
            ]
          },
          "metadata": {},
          "output_type": "display_data"
        },
        {
          "name": "stdout",
          "output_type": "stream",
          "text": [
            "             feature  importance\n",
            "35               Age    0.156917\n",
            "39       HospAdmTime    0.126858\n",
            "40            ICULOS    0.093966\n",
            "1                 HR    0.069030\n",
            "4                SBP    0.065626\n",
            "0               Hour    0.065277\n",
            "7               Resp    0.054493\n",
            "5                MAP    0.052708\n",
            "6                DBP    0.050763\n",
            "2              O2Sat    0.041583\n",
            "3               Temp    0.037535\n",
            "22           Glucose    0.015394\n",
            "8              EtCO2    0.015373\n",
            "37             Unit1    0.013887\n",
            "36            Gender    0.012948\n",
            "38             Unit2    0.012879\n",
            "11              FiO2    0.010260\n",
            "13             PaCO2    0.008513\n",
            "12                pH    0.007473\n",
            "9         BaseExcess    0.007046\n",
            "23           Lactate    0.006652\n",
            "26         Potassium    0.006650\n",
            "29               Hct    0.006300\n",
            "14              SaO2    0.005276\n",
            "32               WBC    0.005273\n",
            "34         Platelets    0.004689\n",
            "31               PTT    0.004556\n",
            "30               Hgb    0.004375\n",
            "18           Calcium    0.004295\n",
            "24         Magnesium    0.004212\n",
            "16               BUN    0.003799\n",
            "19          Chloride    0.003571\n",
            "10              HCO3    0.003433\n",
            "25         Phosphate    0.003320\n",
            "20        Creatinine    0.003023\n",
            "28         TroponinI    0.002605\n",
            "17      Alkalinephos    0.002586\n",
            "33        Fibrinogen    0.002100\n",
            "15               AST    0.001976\n",
            "27   Bilirubin_total    0.001713\n",
            "21  Bilirubin_direct    0.001067\n",
            "Accuracy: 0.9740209121188499\n"
          ]
        }
      ],
      "source": [
        "\n",
        "\n",
        "# Cargar los datos\n",
        "#df = pd.read_csv(\"sepsis_dataset.csv\")\n",
        "\n",
        "# Eliminar columnas que no aportan \n",
        "from sklearn.metrics import accuracy_score, roc_auc_score\n",
        "\n",
        "columnas_a_quitar = [\"Unnamed: 0\", \"Patient_ID\"]\n",
        "df = df.drop(columns=columnas_a_quitar)\n",
        "\n",
        "# Separar variables para predecir del resto\n",
        "X = df.drop(\"SepsisLabel\", axis=1)\n",
        "y = df[\"SepsisLabel\"]\n",
        "\n",
        "# Imputar valores faltantes con la media\n",
        "imputer = SimpleImputer(strategy=\"mean\")\n",
        "X_imputed = pd.DataFrame(imputer.fit_transform(X), columns=X.columns)\n",
        "\n",
        "# Separar datos train y test\n",
        "X_train, X_test, y_train, y_test = train_test_split(X_imputed, y, test_size=0.2, random_state=42)\n",
        "\n",
        "# Crear y entrenar el modelo de árbol de decisión\n",
        "model = DecisionTreeClassifier(random_state=42)\n",
        "model.fit(X_train, y_train)\n",
        "\n",
        "# Importancia de features\n",
        "feature_importance = pd.DataFrame({\n",
        "    \"feature\": X.columns,\n",
        "    \"importance\": model.feature_importances_\n",
        "}).sort_values(by=\"importance\", ascending=False)\n",
        "\n",
        "# Mostrar gráfico de importancias\n",
        "plt.figure(figsize=(10, 15))\n",
        "sns.barplot(y=\"feature\", x=\"importance\", data=feature_importance)\n",
        "plt.title(\"Importancia de cada característica para predecir Sepsis\")\n",
        "plt.tight_layout()\n",
        "plt.show()\n",
        "\n",
        "\n",
        "print(feature_importance)\n",
        "\n",
        "y_pred = model.predict(X_test)\n",
        "accuracy = accuracy_score(y_test, y_pred)\n",
        "roc_auc = roc_auc_score(y_test, y_pred)\n",
        "\n",
        "print(\"Accuracy:\", accuracy)"
      ]
    },
    {
      "cell_type": "code",
      "execution_count": null,
      "metadata": {
        "colab": {
          "base_uri": "https://localhost:8080/",
          "height": 506
        },
        "id": "mVZ-KfR8vv9Y",
        "outputId": "b0261357-43aa-4e7c-f78b-e6ddce31da70"
      },
      "outputs": [
        {
          "name": "stdout",
          "output_type": "stream",
          "text": [
            "<class 'pandas.core.series.Series'>\n",
            "RangeIndex: 1552210 entries, 0 to 1552209\n",
            "Series name: Hour\n",
            "Non-Null Count    Dtype\n",
            "--------------    -----\n",
            "1552210 non-null  int64\n",
            "dtypes: int64(1)\n",
            "memory usage: 11.8 MB\n",
            "<class 'pandas.core.series.Series'>\n",
            "RangeIndex: 1552210 entries, 0 to 1552209\n",
            "Series name: Hour\n",
            "Non-Null Count    Dtype\n",
            "--------------    -----\n",
            "1552210 non-null  int64\n",
            "dtypes: int64(1)\n",
            "memory usage: 11.8 MB\n",
            "None\n"
          ]
        },
        {
          "ename": "TypeError",
          "evalue": "DataFrame.notnull() takes 1 positional argument but 2 were given",
          "output_type": "error",
          "traceback": [
            "\u001b[0;31m---------------------------------------------------------------------------\u001b[0m",
            "\u001b[0;31mTypeError\u001b[0m                                 Traceback (most recent call last)",
            "\u001b[0;32m<ipython-input-30-960a5bcbc043>\u001b[0m in \u001b[0;36m<cell line: 0>\u001b[0;34m()\u001b[0m\n\u001b[1;32m      9\u001b[0m     \u001b[0mmore_important\u001b[0m \u001b[0;34m=\u001b[0m \u001b[0mdf\u001b[0m\u001b[0;34m.\u001b[0m\u001b[0miloc\u001b[0m\u001b[0;34m[\u001b[0m\u001b[0;34m:\u001b[0m\u001b[0;34m,\u001b[0m \u001b[0mi\u001b[0m\u001b[0;34m]\u001b[0m\u001b[0;34m.\u001b[0m\u001b[0minfo\u001b[0m\u001b[0;34m(\u001b[0m\u001b[0;34m)\u001b[0m  \u001b[0;31m# Guardar la información si lo necesitas\u001b[0m\u001b[0;34m\u001b[0m\u001b[0;34m\u001b[0m\u001b[0m\n\u001b[1;32m     10\u001b[0m     \u001b[0mprint\u001b[0m\u001b[0;34m(\u001b[0m \u001b[0mdf\u001b[0m\u001b[0;34m.\u001b[0m\u001b[0miloc\u001b[0m\u001b[0;34m[\u001b[0m\u001b[0;34m:\u001b[0m\u001b[0;34m,\u001b[0m \u001b[0mi\u001b[0m\u001b[0;34m]\u001b[0m\u001b[0;34m.\u001b[0m\u001b[0minfo\u001b[0m\u001b[0;34m(\u001b[0m\u001b[0;34m)\u001b[0m\u001b[0;34m)\u001b[0m\u001b[0;34m\u001b[0m\u001b[0;34m\u001b[0m\u001b[0m\n\u001b[0;32m---> 11\u001b[0;31m     \u001b[0mdf\u001b[0m\u001b[0;34m.\u001b[0m\u001b[0mnotnull\u001b[0m\u001b[0;34m(\u001b[0m\u001b[0mmore_important\u001b[0m\u001b[0;34m)\u001b[0m\u001b[0;34m\u001b[0m\u001b[0;34m\u001b[0m\u001b[0m\n\u001b[0m\u001b[1;32m     12\u001b[0m \u001b[0;34m\u001b[0m\u001b[0m\n\u001b[1;32m     13\u001b[0m \u001b[0;34m\u001b[0m\u001b[0m\n",
            "\u001b[0;31mTypeError\u001b[0m: DataFrame.notnull() takes 1 positional argument but 2 were given"
          ]
        }
      ],
      "source": [
        "# for i in range(len(feature_importance)):\n",
        "#   if feature_importance[2][i] >= 0.02:\n",
        "#     df.iloc[:, [i]].info()\n",
        "#   else:\n",
        "#     break\n",
        "\n",
        "\n",
        "# Intento de hacer laog queno salio comparando la cantidad de datos y su importantica \n",
        "\n",
        "\n",
        "# for i in range(len(feature_importance)):\n",
        "#   if feature_importance[\"importance\"][i] >= 0.02:\n",
        "#     more_important = df.iloc[:, i].info()  # Guardar la información si lo necesitas\n",
        "#     print( df.iloc[:, i].info())\n",
        "#     df.notnull(more_important)\n",
        "\n",
        "\n",
        "#   else:\n",
        "#     break\n",
        "\n",
        "\n",
        "#Mas intentos de lo mismo\n",
        "\n",
        "\n",
        "\n",
        "# non_null_list=[]\n",
        "# # Contar non-null por columna\n",
        "# for i in range(len(df.notnull().sum())):\n",
        "#   df.notnull.append\n",
        "# print(non_null_list)\n",
        "# non_null_counts = df.notnull().sum()\n",
        "\n",
        "# sorted_cols = non_null_counts.sort_values(ascending=False).index\n",
        "\n",
        "# # Mostrar el resultado ordenado\n",
        "# print(non_null_counts.sort_values(ascending=False))"
      ]
    },
    {
      "cell_type": "code",
      "execution_count": null,
      "metadata": {
        "colab": {
          "base_uri": "https://localhost:8080/"
        },
        "id": "NOYtqptVxqAz",
        "outputId": "a559ab64-d303-46e5-be46-d369df670b25"
      },
      "outputs": [
        {
          "name": "stdout",
          "output_type": "stream",
          "text": [
            "<class 'pandas.core.frame.DataFrame'>\n",
            "RangeIndex: 1552210 entries, 0 to 1552209\n",
            "Data columns (total 1 columns):\n",
            " #   Column  Non-Null Count    Dtype  \n",
            "---  ------  --------------    -----  \n",
            " 0   HR      1398811 non-null  float64\n",
            "dtypes: float64(1)\n",
            "memory usage: 11.8 MB\n"
          ]
        }
      ],
      "source": [
        "df.iloc[:, [1]].info()\n"
      ]
    },
    {
      "cell_type": "code",
      "execution_count": null,
      "metadata": {
        "colab": {
          "base_uri": "https://localhost:8080/",
          "height": 211
        },
        "id": "Gh5xf2qy2HXa",
        "outputId": "8732957d-b44d-407b-f923-9552bd1484d5"
      },
      "outputs": [
        {
          "ename": "AttributeError",
          "evalue": "'function' object has no attribute 'append'",
          "output_type": "error",
          "traceback": [
            "\u001b[0;31m---------------------------------------------------------------------------\u001b[0m",
            "\u001b[0;31mAttributeError\u001b[0m                            Traceback (most recent call last)",
            "\u001b[0;32m<ipython-input-26-7594b5ded6ad>\u001b[0m in \u001b[0;36m<cell line: 0>\u001b[0;34m()\u001b[0m\n\u001b[1;32m      2\u001b[0m \u001b[0;31m# Contar non-null por columna\u001b[0m\u001b[0;34m\u001b[0m\u001b[0;34m\u001b[0m\u001b[0m\n\u001b[1;32m      3\u001b[0m \u001b[0;32mfor\u001b[0m \u001b[0mi\u001b[0m \u001b[0;32min\u001b[0m \u001b[0mrange\u001b[0m\u001b[0;34m(\u001b[0m\u001b[0mlen\u001b[0m\u001b[0;34m(\u001b[0m\u001b[0mdf\u001b[0m\u001b[0;34m.\u001b[0m\u001b[0mnotnull\u001b[0m\u001b[0;34m(\u001b[0m\u001b[0;34m)\u001b[0m\u001b[0;34m.\u001b[0m\u001b[0msum\u001b[0m\u001b[0;34m(\u001b[0m\u001b[0;34m)\u001b[0m\u001b[0;34m)\u001b[0m\u001b[0;34m)\u001b[0m\u001b[0;34m:\u001b[0m\u001b[0;34m\u001b[0m\u001b[0;34m\u001b[0m\u001b[0m\n\u001b[0;32m----> 4\u001b[0;31m   \u001b[0mdf\u001b[0m\u001b[0;34m.\u001b[0m\u001b[0mnotnull\u001b[0m\u001b[0;34m.\u001b[0m\u001b[0mappend\u001b[0m\u001b[0;34m\u001b[0m\u001b[0;34m\u001b[0m\u001b[0m\n\u001b[0m\u001b[1;32m      5\u001b[0m \u001b[0mprint\u001b[0m\u001b[0;34m(\u001b[0m\u001b[0mnon_null_list\u001b[0m\u001b[0;34m)\u001b[0m\u001b[0;34m\u001b[0m\u001b[0;34m\u001b[0m\u001b[0m\n\u001b[1;32m      6\u001b[0m \u001b[0mnon_null_counts\u001b[0m \u001b[0;34m=\u001b[0m \u001b[0mdf\u001b[0m\u001b[0;34m.\u001b[0m\u001b[0mnotnull\u001b[0m\u001b[0;34m(\u001b[0m\u001b[0;34m)\u001b[0m\u001b[0;34m.\u001b[0m\u001b[0msum\u001b[0m\u001b[0;34m(\u001b[0m\u001b[0;34m)\u001b[0m\u001b[0;34m\u001b[0m\u001b[0;34m\u001b[0m\u001b[0m\n",
            "\u001b[0;31mAttributeError\u001b[0m: 'function' object has no attribute 'append'"
          ]
        }
      ],
      "source": []
    },
    {
      "cell_type": "code",
      "execution_count": null,
      "metadata": {
        "colab": {
          "base_uri": "https://localhost:8080/"
        },
        "id": "6lrjolJS5ZX4",
        "outputId": "a363e99c-b3bc-4c9d-bd21-91c4c9437246"
      },
      "outputs": [
        {
          "name": "stdout",
          "output_type": "stream",
          "text": [
            "             Feature  Non-Null Count  Importance\n",
            "0                Age         1552210    0.156917\n",
            "1        HospAdmTime         1552202    0.126858\n",
            "2             ICULOS         1552210    0.093966\n",
            "3                 HR         1398811    0.069030\n",
            "4                SBP         1325945    0.065626\n",
            "5               Hour         1552210    0.065277\n",
            "6               Resp         1313875    0.054493\n",
            "7                MAP         1358940    0.052708\n",
            "8                DBP         1065656    0.050763\n",
            "9              O2Sat         1349474    0.041583\n",
            "10              Temp          525226    0.037535\n",
            "11           Glucose          265516    0.015394\n",
            "12             EtCO2           57636    0.015373\n",
            "13             Unit1          940250    0.013887\n",
            "14            Gender         1552210    0.012948\n",
            "15             Unit2          940250    0.012879\n",
            "16              FiO2          129365    0.010260\n",
            "17             PaCO2           86301    0.008513\n",
            "18                pH          107573    0.007473\n",
            "19        BaseExcess           84145    0.007046\n",
            "20           Lactate           41446    0.006652\n",
            "21         Potassium          144525    0.006650\n",
            "22               Hct          137433    0.006300\n",
            "23              SaO2           53561    0.005276\n",
            "24               WBC           99447    0.005273\n",
            "25         Platelets           92209    0.004689\n",
            "26               PTT           45699    0.004556\n",
            "27               Hgb          114591    0.004375\n",
            "28           Calcium           91331    0.004295\n",
            "29         Magnesium           97951    0.004212\n",
            "30               BUN          106568    0.003799\n",
            "31          Chloride           70466    0.003571\n",
            "32              HCO3           65028    0.003433\n",
            "33         Phosphate           62301    0.003320\n",
            "34        Creatinine           94616    0.003023\n",
            "35         TroponinI           14781    0.002605\n",
            "36      Alkalinephos           24941    0.002586\n",
            "37        Fibrinogen           10242    0.002100\n",
            "38               AST           25183    0.001976\n",
            "39   Bilirubin_total           23141    0.001713\n",
            "40  Bilirubin_direct            2990    0.001067\n"
          ]
        }
      ],
      "source": [
        "# 1. Obtener la cantidad de datos non-null por columna (en el df original)\n",
        "non_null_counts = df.notnull().sum()\n",
        "\n",
        "# 2. Unir esa info con la importancia de características\n",
        "# feature_importance ya tiene columnas \"feature\" e \"importance\"\n",
        "\n",
        "# 3. Crear la lista de listas\n",
        "lista_resultado = []\n",
        "\n",
        "for feature in feature_importance[\"feature\"]:\n",
        "    cantidad_non_null = non_null_counts[feature]\n",
        "    importancia = feature_importance.loc[feature_importance[\"feature\"] == feature, \"importance\"].values[0]\n",
        "    lista_resultado.append([feature, cantidad_non_null, importancia])\n",
        "\n",
        "# for fila in lista_resultado:\n",
        "#     print(fila)\n",
        "tabla_resultado = pd.DataFrame(lista_resultado, columns=[\"Feature\", \"Non-Null Count\", \"Importance\"])\n",
        "\n",
        "# Mostrar como tabla\n",
        "print(tabla_resultado)"
      ]
    },
    {
      "cell_type": "code",
      "execution_count": null,
      "metadata": {
        "id": "5iiDctO6_GtF"
      },
      "outputs": [],
      "source": []
    }
  ],
  "metadata": {
    "colab": {
      "provenance": []
    },
    "kernelspec": {
      "display_name": "Python 3",
      "name": "python3"
    },
    "language_info": {
      "codemirror_mode": {
        "name": "ipython",
        "version": 3
      },
      "file_extension": ".py",
      "mimetype": "text/x-python",
      "name": "python",
      "nbconvert_exporter": "python",
      "pygments_lexer": "ipython3",
      "version": "3.13.3"
    }
  },
  "nbformat": 4,
  "nbformat_minor": 0
}
